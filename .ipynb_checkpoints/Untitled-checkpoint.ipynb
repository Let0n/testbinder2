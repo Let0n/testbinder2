{
 "cells": [
  {
   "cell_type": "code",
   "execution_count": 1,
   "metadata": {
    "ExecuteTime": {
     "end_time": "2018-05-04T16:41:48.962469Z",
     "start_time": "2018-05-04T16:41:48.321836Z"
    }
   },
   "outputs": [],
   "source": [
    "import numpy as np\n",
    "import matplotlib as mpl\n",
    "import matplotlib.pyplot as plt"
   ]
  },
  {
   "cell_type": "code",
   "execution_count": 2,
   "metadata": {
    "ExecuteTime": {
     "end_time": "2018-05-04T16:42:38.501462Z",
     "start_time": "2018-05-04T16:42:38.496392Z"
    }
   },
   "outputs": [],
   "source": [
    "def gaussian(x, *p):\n",
    "    return p[0] * np.exp(-((x - p[1])/p[2])**2/2)"
   ]
  },
  {
   "cell_type": "code",
   "execution_count": 3,
   "metadata": {
    "ExecuteTime": {
     "end_time": "2018-05-04T16:43:09.166995Z",
     "start_time": "2018-05-04T16:43:09.163296Z"
    }
   },
   "outputs": [],
   "source": [
    "x = np.linspace(-1, 1, 101)\n",
    "g = gaussian(x, 1, 0, 0.2)"
   ]
  },
  {
   "cell_type": "code",
   "execution_count": 4,
   "metadata": {
    "ExecuteTime": {
     "end_time": "2018-05-04T16:44:10.765796Z",
     "start_time": "2018-05-04T16:44:10.561847Z"
    }
   },
   "outputs": [
    {
     "data": {
      "image/png": "[encoded data removed]",
      "text/plain": [
       "<matplotlib.figure.Figure at 0x108101198>"
      ]
     },
     "metadata": {},
     "output_type": "display_data"
    }
   ],
   "source": [
    "plt.figure(figsize=[4, 4])\n",
    "plt.subplot(111)\n",
    "plt.plot(x, g, 'r', lw=1)\n",
    "plt.grid(which='both')\n",
    "plt.title('Gaussian Function')\n",
    "plt.tight_layout()"
   ]
  },
  {
   "cell_type": "markdown",
   "metadata": {},
   "source": [
    "$G(x) = \\exp[-\\frac{1}{2}(\\frac{x}{0.2})^{2}]$"
   ]
  },
  {
   "cell_type": "code",
   "execution_count": null,
   "metadata": {},
   "outputs": [],
   "source": []
  }
 ],
 "metadata": {
  "kernelspec": {
   "display_name": "Python 3",
   "language": "python",
   "name": "python3"
  },
  "language_info": {
   "codemirror_mode": {
    "name": "ipython",
    "version": 3
   },
   "file_extension": ".py",
   "mimetype": "text/x-python",
   "name": "python",
   "nbconvert_exporter": "python",
   "pygments_lexer": "ipython3",
   "version": "3.6.4"
  }
 },
 "nbformat": 4,
 "nbformat_minor": 2
}
